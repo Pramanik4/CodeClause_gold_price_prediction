{
 "cells": [
  {
   "cell_type": "markdown",
   "id": "d066bca4",
   "metadata": {},
   "source": [
    "# GOLD PRICE PREDICTION"
   ]
  },
  {
   "cell_type": "markdown",
   "id": "a2928426",
   "metadata": {},
   "source": [
    "## To import the required libraries"
   ]
  },
  {
   "cell_type": "code",
   "execution_count": 2,
   "id": "a36844d0",
   "metadata": {},
   "outputs": [],
   "source": [
    "import pandas as pd\n",
    "import seaborn as sb\n",
    "import matplotlib.pyplot as mp\n",
    "from sklearn.model_selection import train_test_split\n",
    "from sklearn.ensemble import RandomForestRegressor"
   ]
  },
  {
   "cell_type": "markdown",
   "id": "79914104",
   "metadata": {},
   "source": [
    "## To load the dataset using Pandas Dataframe"
   ]
  },
  {
   "cell_type": "code",
   "execution_count": 3,
   "id": "416c47e6",
   "metadata": {},
   "outputs": [],
   "source": [
    "dataset = pd.read_csv('gold_price.csv')"
   ]
  },
  {
   "cell_type": "markdown",
   "id": "803a310e",
   "metadata": {},
   "source": [
    "## to just get a glimpse of the dataset"
   ]
  },
  {
   "cell_type": "code",
   "execution_count": 4,
   "id": "af325fb2",
   "metadata": {},
   "outputs": [
    {
     "data": {
      "text/html": [
       "<div>\n",
       "<style scoped>\n",
       "    .dataframe tbody tr th:only-of-type {\n",
       "        vertical-align: middle;\n",
       "    }\n",
       "\n",
       "    .dataframe tbody tr th {\n",
       "        vertical-align: top;\n",
       "    }\n",
       "\n",
       "    .dataframe thead th {\n",
       "        text-align: right;\n",
       "    }\n",
       "</style>\n",
       "<table border=\"1\" class=\"dataframe\">\n",
       "  <thead>\n",
       "    <tr style=\"text-align: right;\">\n",
       "      <th></th>\n",
       "      <th>Date</th>\n",
       "      <th>SPX</th>\n",
       "      <th>GLD</th>\n",
       "      <th>USO</th>\n",
       "      <th>SLV</th>\n",
       "      <th>EUR/USD</th>\n",
       "    </tr>\n",
       "  </thead>\n",
       "  <tbody>\n",
       "    <tr>\n",
       "      <th>0</th>\n",
       "      <td>1/2/2008</td>\n",
       "      <td>1447.160034</td>\n",
       "      <td>84.860001</td>\n",
       "      <td>78.470001</td>\n",
       "      <td>15.180</td>\n",
       "      <td>1.471692</td>\n",
       "    </tr>\n",
       "    <tr>\n",
       "      <th>1</th>\n",
       "      <td>1/3/2008</td>\n",
       "      <td>1447.160034</td>\n",
       "      <td>85.570000</td>\n",
       "      <td>78.370003</td>\n",
       "      <td>15.285</td>\n",
       "      <td>1.474491</td>\n",
       "    </tr>\n",
       "    <tr>\n",
       "      <th>2</th>\n",
       "      <td>1/4/2008</td>\n",
       "      <td>1411.630005</td>\n",
       "      <td>85.129997</td>\n",
       "      <td>77.309998</td>\n",
       "      <td>15.167</td>\n",
       "      <td>1.475492</td>\n",
       "    </tr>\n",
       "    <tr>\n",
       "      <th>3</th>\n",
       "      <td>1/7/2008</td>\n",
       "      <td>1416.180054</td>\n",
       "      <td>84.769997</td>\n",
       "      <td>75.500000</td>\n",
       "      <td>15.053</td>\n",
       "      <td>1.468299</td>\n",
       "    </tr>\n",
       "    <tr>\n",
       "      <th>4</th>\n",
       "      <td>1/8/2008</td>\n",
       "      <td>1390.189941</td>\n",
       "      <td>86.779999</td>\n",
       "      <td>76.059998</td>\n",
       "      <td>15.590</td>\n",
       "      <td>1.557099</td>\n",
       "    </tr>\n",
       "  </tbody>\n",
       "</table>\n",
       "</div>"
      ],
      "text/plain": [
       "       Date          SPX        GLD        USO     SLV   EUR/USD\n",
       "0  1/2/2008  1447.160034  84.860001  78.470001  15.180  1.471692\n",
       "1  1/3/2008  1447.160034  85.570000  78.370003  15.285  1.474491\n",
       "2  1/4/2008  1411.630005  85.129997  77.309998  15.167  1.475492\n",
       "3  1/7/2008  1416.180054  84.769997  75.500000  15.053  1.468299\n",
       "4  1/8/2008  1390.189941  86.779999  76.059998  15.590  1.557099"
      ]
     },
     "execution_count": 4,
     "metadata": {},
     "output_type": "execute_result"
    }
   ],
   "source": [
    "dataset.head()"
   ]
  },
  {
   "cell_type": "markdown",
   "id": "7c30b736",
   "metadata": {},
   "source": [
    "## To get total number of rows and columns"
   ]
  },
  {
   "cell_type": "code",
   "execution_count": 5,
   "id": "9f2b0eef",
   "metadata": {},
   "outputs": [
    {
     "data": {
      "text/plain": [
       "(2290, 6)"
      ]
     },
     "execution_count": 5,
     "metadata": {},
     "output_type": "execute_result"
    }
   ],
   "source": [
    "dataset.shape"
   ]
  },
  {
   "cell_type": "markdown",
   "id": "c2654441",
   "metadata": {},
   "source": [
    "## To get the datatypes of each attribute"
   ]
  },
  {
   "cell_type": "code",
   "execution_count": 6,
   "id": "b2898619",
   "metadata": {},
   "outputs": [
    {
     "data": {
      "text/plain": [
       "Date        object\n",
       "SPX        float64\n",
       "GLD        float64\n",
       "USO        float64\n",
       "SLV        float64\n",
       "EUR/USD    float64\n",
       "dtype: object"
      ]
     },
     "execution_count": 6,
     "metadata": {},
     "output_type": "execute_result"
    }
   ],
   "source": [
    "dataset.dtypes"
   ]
  },
  {
   "cell_type": "markdown",
   "id": "d57e9695",
   "metadata": {},
   "source": [
    "## To check for the missing value in the dataset"
   ]
  },
  {
   "cell_type": "code",
   "execution_count": 7,
   "id": "121fcc2d",
   "metadata": {},
   "outputs": [
    {
     "data": {
      "text/plain": [
       "Date       0\n",
       "SPX        0\n",
       "GLD        0\n",
       "USO        0\n",
       "SLV        0\n",
       "EUR/USD    0\n",
       "dtype: int64"
      ]
     },
     "execution_count": 7,
     "metadata": {},
     "output_type": "execute_result"
    }
   ],
   "source": [
    "dataset.isnull().sum()"
   ]
  },
  {
   "cell_type": "markdown",
   "id": "824ac268",
   "metadata": {},
   "source": [
    "There is no missing value in this whole dataset"
   ]
  },
  {
   "cell_type": "markdown",
   "id": "a2b6a062",
   "metadata": {},
   "source": [
    "## To get the details of the dataset"
   ]
  },
  {
   "cell_type": "code",
   "execution_count": 8,
   "id": "02ea10db",
   "metadata": {},
   "outputs": [
    {
     "name": "stdout",
     "output_type": "stream",
     "text": [
      "<class 'pandas.core.frame.DataFrame'>\n",
      "RangeIndex: 2290 entries, 0 to 2289\n",
      "Data columns (total 6 columns):\n",
      " #   Column   Non-Null Count  Dtype  \n",
      "---  ------   --------------  -----  \n",
      " 0   Date     2290 non-null   object \n",
      " 1   SPX      2290 non-null   float64\n",
      " 2   GLD      2290 non-null   float64\n",
      " 3   USO      2290 non-null   float64\n",
      " 4   SLV      2290 non-null   float64\n",
      " 5   EUR/USD  2290 non-null   float64\n",
      "dtypes: float64(5), object(1)\n",
      "memory usage: 107.5+ KB\n"
     ]
    }
   ],
   "source": [
    "dataset.info()"
   ]
  },
  {
   "cell_type": "markdown",
   "id": "72c2ec16",
   "metadata": {},
   "source": [
    "## To get the Statiscal Information of this dataset"
   ]
  },
  {
   "cell_type": "code",
   "execution_count": 9,
   "id": "413311e7",
   "metadata": {},
   "outputs": [
    {
     "data": {
      "text/html": [
       "<div>\n",
       "<style scoped>\n",
       "    .dataframe tbody tr th:only-of-type {\n",
       "        vertical-align: middle;\n",
       "    }\n",
       "\n",
       "    .dataframe tbody tr th {\n",
       "        vertical-align: top;\n",
       "    }\n",
       "\n",
       "    .dataframe thead th {\n",
       "        text-align: right;\n",
       "    }\n",
       "</style>\n",
       "<table border=\"1\" class=\"dataframe\">\n",
       "  <thead>\n",
       "    <tr style=\"text-align: right;\">\n",
       "      <th></th>\n",
       "      <th>SPX</th>\n",
       "      <th>GLD</th>\n",
       "      <th>USO</th>\n",
       "      <th>SLV</th>\n",
       "      <th>EUR/USD</th>\n",
       "    </tr>\n",
       "  </thead>\n",
       "  <tbody>\n",
       "    <tr>\n",
       "      <th>count</th>\n",
       "      <td>2290.000000</td>\n",
       "      <td>2290.000000</td>\n",
       "      <td>2290.000000</td>\n",
       "      <td>2290.000000</td>\n",
       "      <td>2290.000000</td>\n",
       "    </tr>\n",
       "    <tr>\n",
       "      <th>mean</th>\n",
       "      <td>1654.315776</td>\n",
       "      <td>122.732875</td>\n",
       "      <td>31.842221</td>\n",
       "      <td>20.084997</td>\n",
       "      <td>1.283653</td>\n",
       "    </tr>\n",
       "    <tr>\n",
       "      <th>std</th>\n",
       "      <td>519.111540</td>\n",
       "      <td>23.283346</td>\n",
       "      <td>19.523517</td>\n",
       "      <td>7.092566</td>\n",
       "      <td>0.131547</td>\n",
       "    </tr>\n",
       "    <tr>\n",
       "      <th>min</th>\n",
       "      <td>676.530029</td>\n",
       "      <td>70.000000</td>\n",
       "      <td>7.960000</td>\n",
       "      <td>8.850000</td>\n",
       "      <td>1.039047</td>\n",
       "    </tr>\n",
       "    <tr>\n",
       "      <th>25%</th>\n",
       "      <td>1239.874969</td>\n",
       "      <td>109.725000</td>\n",
       "      <td>14.380000</td>\n",
       "      <td>15.570000</td>\n",
       "      <td>1.171313</td>\n",
       "    </tr>\n",
       "    <tr>\n",
       "      <th>50%</th>\n",
       "      <td>1551.434998</td>\n",
       "      <td>120.580002</td>\n",
       "      <td>33.869999</td>\n",
       "      <td>17.268500</td>\n",
       "      <td>1.303297</td>\n",
       "    </tr>\n",
       "    <tr>\n",
       "      <th>75%</th>\n",
       "      <td>2073.010070</td>\n",
       "      <td>132.840004</td>\n",
       "      <td>37.827501</td>\n",
       "      <td>22.882500</td>\n",
       "      <td>1.369971</td>\n",
       "    </tr>\n",
       "    <tr>\n",
       "      <th>max</th>\n",
       "      <td>2872.870117</td>\n",
       "      <td>184.589996</td>\n",
       "      <td>117.480003</td>\n",
       "      <td>47.259998</td>\n",
       "      <td>1.598798</td>\n",
       "    </tr>\n",
       "  </tbody>\n",
       "</table>\n",
       "</div>"
      ],
      "text/plain": [
       "               SPX          GLD          USO          SLV      EUR/USD\n",
       "count  2290.000000  2290.000000  2290.000000  2290.000000  2290.000000\n",
       "mean   1654.315776   122.732875    31.842221    20.084997     1.283653\n",
       "std     519.111540    23.283346    19.523517     7.092566     0.131547\n",
       "min     676.530029    70.000000     7.960000     8.850000     1.039047\n",
       "25%    1239.874969   109.725000    14.380000    15.570000     1.171313\n",
       "50%    1551.434998   120.580002    33.869999    17.268500     1.303297\n",
       "75%    2073.010070   132.840004    37.827501    22.882500     1.369971\n",
       "max    2872.870117   184.589996   117.480003    47.259998     1.598798"
      ]
     },
     "execution_count": 9,
     "metadata": {},
     "output_type": "execute_result"
    }
   ],
   "source": [
    "dataset.describe()"
   ]
  },
  {
   "cell_type": "markdown",
   "id": "4423a2da",
   "metadata": {},
   "source": [
    "## To get the distribution of gold price pictorial"
   ]
  },
  {
   "cell_type": "code",
   "execution_count": 10,
   "id": "7d674cbb",
   "metadata": {},
   "outputs": [
    {
     "data": {
      "text/plain": [
       "<seaborn.axisgrid.FacetGrid at 0x1e3ca92feb0>"
      ]
     },
     "execution_count": 10,
     "metadata": {},
     "output_type": "execute_result"
    },
    {
     "data": {
      "image/png": "[encoded data removed]",
      "text/plain": [
       "<Figure size 360x360 with 1 Axes>"
      ]
     },
     "metadata": {
      "needs_background": "light"
     },
     "output_type": "display_data"
    }
   ],
   "source": [
    "sb.displot(dataset['GLD'],color='green')"
   ]
  },
  {
   "cell_type": "code",
   "execution_count": 11,
   "id": "0bcc3f28",
   "metadata": {},
   "outputs": [
    {
     "data": {
      "text/plain": [
       "Index(['Date', 'SPX', 'GLD', 'USO', 'SLV', 'EUR/USD'], dtype='object')"
      ]
     },
     "execution_count": 11,
     "metadata": {},
     "output_type": "execute_result"
    }
   ],
   "source": [
    "dataset.columns"
   ]
  },
  {
   "cell_type": "markdown",
   "id": "0b078ee2",
   "metadata": {},
   "source": [
    "## Now, Let's split the dataset into features and target variable"
   ]
  },
  {
   "cell_type": "code",
   "execution_count": 12,
   "id": "d62cad3e",
   "metadata": {},
   "outputs": [],
   "source": [
    "X = dataset.drop(['Date','GLD'], axis=1)\n",
    "Y = dataset['GLD']"
   ]
  },
  {
   "cell_type": "code",
   "execution_count": 13,
   "id": "ba532b7e",
   "metadata": {},
   "outputs": [
    {
     "name": "stdout",
     "output_type": "stream",
     "text": [
      "              SPX        USO      SLV   EUR/USD\n",
      "0     1447.160034  78.470001  15.1800  1.471692\n",
      "1     1447.160034  78.370003  15.2850  1.474491\n",
      "2     1411.630005  77.309998  15.1670  1.475492\n",
      "3     1416.180054  75.500000  15.0530  1.468299\n",
      "4     1390.189941  76.059998  15.5900  1.557099\n",
      "...           ...        ...      ...       ...\n",
      "2285  2671.919922  14.060000  15.5100  1.186789\n",
      "2286  2697.790039  14.370000  15.5300  1.184722\n",
      "2287  2723.070068  14.410000  15.7400  1.191753\n",
      "2288  2730.129883  14.380000  15.5600  1.193118\n",
      "2289  2725.780029  14.405800  15.4542  1.182033\n",
      "\n",
      "[2290 rows x 4 columns]\n"
     ]
    }
   ],
   "source": [
    "print(X)"
   ]
  },
  {
   "cell_type": "code",
   "execution_count": 14,
   "id": "f90a570e",
   "metadata": {},
   "outputs": [
    {
     "name": "stdout",
     "output_type": "stream",
     "text": [
      "0        84.860001\n",
      "1        85.570000\n",
      "2        85.129997\n",
      "3        84.769997\n",
      "4        86.779999\n",
      "           ...    \n",
      "2285    124.589996\n",
      "2286    124.330002\n",
      "2287    125.180000\n",
      "2288    124.489998\n",
      "2289    122.543800\n",
      "Name: GLD, Length: 2290, dtype: float64\n"
     ]
    }
   ],
   "source": [
    "print(Y)"
   ]
  },
  {
   "cell_type": "markdown",
   "id": "6afebee3",
   "metadata": {},
   "source": [
    "## Now, let's Train & Test the Dataset"
   ]
  },
  {
   "cell_type": "code",
   "execution_count": 15,
   "id": "03bfcf40",
   "metadata": {},
   "outputs": [],
   "source": [
    "X_train, X_test, Y_train, Y_test = train_test_split(X,Y,test_size=0.2, random_state=2)"
   ]
  },
  {
   "cell_type": "code",
   "execution_count": 16,
   "id": "17472a51",
   "metadata": {},
   "outputs": [
    {
     "name": "stdout",
     "output_type": "stream",
     "text": [
      "(2290, 4) (1832, 4) (458, 4)\n"
     ]
    }
   ],
   "source": [
    "print(X.shape, X_train.shape, X_test.shape)"
   ]
  },
  {
   "cell_type": "code",
   "execution_count": 17,
   "id": "2ec23d85",
   "metadata": {},
   "outputs": [
    {
     "name": "stdout",
     "output_type": "stream",
     "text": [
      "(2290,) (1832,) (458,)\n"
     ]
    }
   ],
   "source": [
    "print(Y.shape, Y_train.shape, Y_test.shape)"
   ]
  },
  {
   "cell_type": "markdown",
   "id": "fcde698c",
   "metadata": {},
   "source": [
    "## Let's create a Linear Regression Model for Predicting the price of a gold"
   ]
  },
  {
   "cell_type": "code",
   "execution_count": 18,
   "id": "75cf1819",
   "metadata": {},
   "outputs": [],
   "source": [
    "model = RandomForestRegressor(n_estimators=100)"
   ]
  },
  {
   "cell_type": "code",
   "execution_count": 19,
   "id": "f9019413",
   "metadata": {},
   "outputs": [
    {
     "data": {
      "text/plain": [
       "RandomForestRegressor()"
      ]
     },
     "execution_count": 19,
     "metadata": {},
     "output_type": "execute_result"
    }
   ],
   "source": [
    "model.fit(X_train,Y_train)"
   ]
  },
  {
   "cell_type": "markdown",
   "id": "8039a3f3",
   "metadata": {},
   "source": [
    "## Accruacy for Training & Testing"
   ]
  },
  {
   "cell_type": "code",
   "execution_count": 20,
   "id": "713f5a7c",
   "metadata": {},
   "outputs": [
    {
     "data": {
      "text/plain": [
       "99.85606552282185"
      ]
     },
     "execution_count": 20,
     "metadata": {},
     "output_type": "execute_result"
    }
   ],
   "source": [
    "model.score(X_train,Y_train)*100"
   ]
  },
  {
   "cell_type": "code",
   "execution_count": 21,
   "id": "003169a4",
   "metadata": {},
   "outputs": [
    {
     "data": {
      "text/plain": [
       "99.01619370486941"
      ]
     },
     "execution_count": 21,
     "metadata": {},
     "output_type": "execute_result"
    }
   ],
   "source": [
    "model.score(X_test,Y_test)*100"
   ]
  },
  {
   "cell_type": "markdown",
   "id": "88931619",
   "metadata": {},
   "source": [
    "## Model Evaluation"
   ]
  },
  {
   "cell_type": "code",
   "execution_count": 22,
   "id": "2cf7f07e",
   "metadata": {},
   "outputs": [],
   "source": [
    "prediction = model.predict(X_test)"
   ]
  },
  {
   "cell_type": "code",
   "execution_count": 23,
   "id": "6f732da2",
   "metadata": {},
   "outputs": [
    {
     "data": {
      "text/plain": [
       "array([168.54869936,  82.52499958, 116.12150024, 127.62130111,\n",
       "       120.82630122, 154.82909788, 150.23429832, 126.20580017,\n",
       "       117.38449869, 126.03660053, 116.57310112, 171.44020077,\n",
       "       141.76509893, 167.95889872, 115.06040014, 117.63630066,\n",
       "       138.06590347, 169.78170065, 159.75740305, 159.98649956,\n",
       "       155.14469993, 125.31449999, 176.53579918, 157.42380356,\n",
       "       125.27680048,  93.8458994 ,  77.74609999, 120.32379994,\n",
       "       119.05189923, 167.5700999 ,  88.15620002, 125.36870021,\n",
       "        91.14450101, 117.65890032, 121.11309874, 137.36130099,\n",
       "       115.32300119, 114.80920061, 147.95769987, 107.20480107,\n",
       "       104.36390239,  87.14429785, 126.56500035, 118.06820023,\n",
       "       152.45189927, 119.59240018, 108.38589965, 108.35059846,\n",
       "        93.19710044, 127.04109824,  75.41010035, 113.53299914,\n",
       "       121.32070003, 111.25449906, 118.83799906, 120.59579942,\n",
       "       159.39910058, 166.46140179, 147.21899717,  85.74299856,\n",
       "        94.17810027,  86.69199888,  90.45540027, 119.10310058,\n",
       "       126.39640068, 127.4541001 , 170.31960003, 122.20259937,\n",
       "       117.36939915,  98.63180036, 168.24690037, 143.03539845,\n",
       "       131.88290279, 121.21630235, 121.47419946, 119.65680061,\n",
       "       114.48120152, 118.21390053, 107.16600093, 127.87110044,\n",
       "       114.19109959, 107.27660006, 117.03050095, 119.61899914,\n",
       "        89.03310069,  88.27579867, 146.38030275, 127.16579967,\n",
       "       113.51810078, 109.98269825, 108.23719894,  77.53049887,\n",
       "       169.11180206, 114.0586991 , 121.61079947, 127.81750151,\n",
       "       155.02729845,  91.58189907, 136.28630133, 158.8836039 ,\n",
       "       126.07410056, 125.54670061, 130.45110149, 114.81110115,\n",
       "       119.79339993,  92.10729967, 110.08169892, 169.47429929,\n",
       "       157.93639863, 114.1600993 , 106.649401  ,  79.61509967,\n",
       "       113.3429003 , 125.80620066, 106.99189957, 119.49760099,\n",
       "       155.98780308, 159.83969933, 120.21559999, 135.0913024 ,\n",
       "       101.56259987, 117.44569828, 119.41950001, 112.87770049,\n",
       "       102.78449923, 160.40379808,  98.64040057, 147.3775991 ,\n",
       "       125.92080135, 169.67389958, 125.71179903, 127.24809792,\n",
       "       127.36820167, 113.90249916, 113.1945004 , 123.62799947,\n",
       "       102.14589909,  89.44809949, 124.50859958, 101.41009944,\n",
       "       107.09249894, 113.39770063, 117.19470057,  99.36079962,\n",
       "       121.75170028, 163.50959906,  87.27939865, 106.48400007,\n",
       "       117.30070054, 127.63790119, 124.02280078,  80.72379915,\n",
       "       120.22400055, 157.96459829,  87.97179974, 110.27379962,\n",
       "       119.01969907, 171.80049837, 103.0805992 , 105.69990076,\n",
       "       122.31700055, 158.86519714,  87.35219866,  93.12360047,\n",
       "       112.91040012, 177.44589955, 114.62699975, 119.31160001,\n",
       "        94.52880128, 125.74220009, 166.13260095, 114.74970045,\n",
       "       116.75600116,  88.31729881, 148.79840086, 120.1795995 ,\n",
       "        89.48299986, 111.71770034, 117.67450092, 118.7243013 ,\n",
       "        88.14419944,  94.00009999, 117.11670034, 118.49450195,\n",
       "       120.42650065, 126.62259833, 121.79049969, 150.51950028,\n",
       "       164.7013005 , 118.56119974, 120.58130149, 150.85700102,\n",
       "       118.23389898, 172.15389865, 105.6851995 , 104.9293014 ,\n",
       "       149.65820113, 113.72930071, 124.8486014 , 147.08579866,\n",
       "       119.6681013 , 115.23110071, 112.42410036, 113.31830199,\n",
       "       141.08440129, 117.82579768, 102.8709002 , 115.89150071,\n",
       "       103.71500158,  99.00750042, 117.40610061,  90.52890029,\n",
       "        91.63410012, 153.68379934, 102.77949965, 154.48390119,\n",
       "       114.24810158, 138.30360145,  90.0180982 , 115.47969982,\n",
       "       113.85839997, 122.64770045, 121.72310042, 165.2395019 ,\n",
       "        92.86089931, 135.47890122, 121.33519945, 120.89050092,\n",
       "       104.67939993, 141.66110278, 122.07059915, 116.65320039,\n",
       "       113.42260102, 126.8620976 , 122.70579956, 125.84589926,\n",
       "       121.2060004 ,  86.82689938, 132.56210101, 145.01950194,\n",
       "        92.72599914, 156.42040026, 158.9125028 , 126.31599894,\n",
       "       165.36399964, 108.75359935, 110.07530097, 103.65149831,\n",
       "        94.16010073, 128.202203  , 106.98139998, 159.69950013,\n",
       "       121.81630014, 132.08359999, 130.48320127, 160.88979976,\n",
       "        90.07449859, 175.75350197, 127.5936007 , 126.70099853,\n",
       "        86.65179946, 124.35119902, 150.60439724,  89.59710011,\n",
       "       106.68380013, 108.91559979,  85.19189866, 135.56300024,\n",
       "       154.99390209, 138.09430372,  74.21000028, 152.57540174,\n",
       "       125.86249936, 126.77060002, 127.43419882, 108.4685994 ,\n",
       "       156.29700033, 114.32210129, 117.01990134, 125.25159923,\n",
       "       154.01830134, 121.14089964, 156.43369862,  92.99940031,\n",
       "       125.53170159, 125.3927001 ,  87.7159004 ,  92.23419927,\n",
       "       126.09029942, 128.45290311, 113.07720015, 117.53489731,\n",
       "       121.02460004, 126.97179766, 120.16960123, 136.50980058,\n",
       "        94.03839992, 119.95830046, 113.31400118,  94.3601997 ,\n",
       "       108.73079961,  87.06679911, 109.31759924,  89.58449955,\n",
       "        92.28600043, 131.4359027 , 162.35519982,  89.30000006,\n",
       "       119.75530091, 133.32650147, 123.83679993, 128.28700162,\n",
       "       101.95979847,  89.00749866, 132.00450051, 120.05510043,\n",
       "       108.64459975, 169.31380055, 115.08840033,  86.63339931,\n",
       "       118.7180006 ,  90.93159976, 161.51519952, 116.63370046,\n",
       "       121.60430005, 160.14989801, 120.17409939, 113.00749913,\n",
       "       108.3745988 , 126.66309988,  76.14390075, 102.9815997 ,\n",
       "       128.04960285, 121.89709907,  92.59389968, 131.70960077,\n",
       "       118.35250098, 116.11749989, 154.35510278, 159.65300066,\n",
       "       110.34959997, 153.58799801, 119.24840074, 160.8051012 ,\n",
       "       118.44080063, 158.71939949, 115.1724995 , 116.62680043,\n",
       "       149.26709829, 114.92210028, 125.6209984 , 165.38899949,\n",
       "       117.4540002 , 125.14049923, 153.38370363, 153.34490277,\n",
       "       132.17049979, 114.82150022, 121.27280219, 125.36820069,\n",
       "        89.72370044, 123.10809997, 155.43210221, 111.76530053,\n",
       "       106.62509985, 161.52660083, 118.59720009, 165.65320034,\n",
       "       134.0991013 , 114.98239993, 152.98289851, 168.72330062,\n",
       "       114.6137002 , 113.96930112, 159.72139848,  85.50589884,\n",
       "       127.07770021, 128.00910039, 128.91369974, 124.32360044,\n",
       "       123.90080059,  90.31750071, 153.27969988,  96.94929998,\n",
       "       137.89569919,  89.01209932, 107.26310008, 115.07740065,\n",
       "       112.96060075, 124.33849921,  91.31819896, 125.44830125,\n",
       "       162.313399  , 119.95759876, 164.9854016 , 126.70809813,\n",
       "       112.2547997 , 127.59989927,  94.99629888,  90.96289968,\n",
       "       103.29829909, 120.87039995,  83.56549945, 126.32840015,\n",
       "       160.53040534, 117.28990078, 118.38019997, 120.03509996,\n",
       "       122.74479953, 119.98380116, 121.51960016, 118.08450024,\n",
       "       107.04969973, 148.21449978, 126.22759875, 115.64050072,\n",
       "        73.9485    , 127.78880105, 153.84470082, 122.74530006,\n",
       "       125.6058003 ,  88.72379999, 103.34159876, 124.59130063,\n",
       "       120.27170064,  73.43120062, 151.77649991, 121.26550031,\n",
       "       104.65620026,  86.36979781, 115.20439913, 172.21049822,\n",
       "       119.84080023, 160.44889836, 113.32629981, 121.52199993,\n",
       "       118.68530107,  96.02899974, 118.84689993, 126.01680022,\n",
       "       118.44819952,  96.01850059, 153.62620214, 122.20320007,\n",
       "       147.48279937, 159.24940203, 113.73610027, 122.38359955,\n",
       "       148.40519695, 126.85890029, 166.03630071, 135.35479982,\n",
       "       120.0701995 , 167.058798  , 108.18659941, 121.79519865,\n",
       "       139.22870076, 106.21599862])"
      ]
     },
     "execution_count": 23,
     "metadata": {},
     "output_type": "execute_result"
    }
   ],
   "source": [
    "prediction"
   ]
  },
  {
   "cell_type": "code",
   "execution_count": 24,
   "id": "fa1d1878",
   "metadata": {},
   "outputs": [],
   "source": [
    "Y_test = list(Y_test)"
   ]
  },
  {
   "cell_type": "code",
   "execution_count": 25,
   "id": "ee2062e1",
   "metadata": {},
   "outputs": [
    {
     "data": {
      "text/plain": [
       "<matplotlib.legend.Legend at 0x1e3cb1f0d30>"
      ]
     },
     "execution_count": 25,
     "metadata": {},
     "output_type": "execute_result"
    },
    {
     "data": {
      "image/png": "[encoded data removed]",
      "text/plain": [
       "<Figure size 432x288 with 1 Axes>"
      ]
     },
     "metadata": {
      "needs_background": "light"
     },
     "output_type": "display_data"
    }
   ],
   "source": [
    "mp.plot(Y_test,color='blue', label='Actual Value')\n",
    "mp.plot(prediction, color='green', label = 'Prediction Value')\n",
    "mp.title('Comparision between Actual and Prediction Value')\n",
    "mp.xlabel('Number of values')\n",
    "mp.ylabel('Gold Prrice')\n",
    "mp.legend()"
   ]
  },
  {
   "cell_type": "code",
   "execution_count": 27,
   "id": "a2ead468",
   "metadata": {},
   "outputs": [
    {
     "name": "stderr",
     "output_type": "stream",
     "text": [
      "C:\\Users\\91986\\anaconda3\\lib\\site-packages\\sklearn\\base.py:450: UserWarning: X does not have valid feature names, but RandomForestRegressor was fitted with feature names\n",
      "  warnings.warn(\n"
     ]
    },
    {
     "data": {
      "text/plain": [
       "array([84.93460031])"
      ]
     },
     "execution_count": 27,
     "metadata": {},
     "output_type": "execute_result"
    }
   ],
   "source": [
    "model.predict([[1447.160034 ,78.470001, 15.1800 ,1.471692]])"
   ]
  },
  {
   "cell_type": "code",
   "execution_count": null,
   "id": "46e9dc22",
   "metadata": {},
   "outputs": [],
   "source": []
  }
 ],
 "metadata": {
  "kernelspec": {
   "display_name": "Python 3 (ipykernel)",
   "language": "python",
   "name": "python3"
  },
  "language_info": {
   "codemirror_mode": {
    "name": "ipython",
    "version": 3
   },
   "file_extension": ".py",
   "mimetype": "text/x-python",
   "name": "python",
   "nbconvert_exporter": "python",
   "pygments_lexer": "ipython3",
   "version": "3.9.12"
  }
 },
 "nbformat": 4,
 "nbformat_minor": 5
}
